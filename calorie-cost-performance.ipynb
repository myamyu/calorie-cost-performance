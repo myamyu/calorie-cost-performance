{
 "cells": [
  {
   "cell_type": "markdown",
   "metadata": {},
   "source": [
    "# カロリーコスパ\n",
    "\n",
    "摂取エネルギー量に対してコスパがいいかどうかを分析してみる\n",
    "\n",
    "---- "
   ]
  },
  {
   "cell_type": "code",
   "execution_count": 1,
   "metadata": {},
   "outputs": [],
   "source": [
    "import pandas as pd\n",
    "import numpy as np\n",
    "import matplotlib\n",
    "import matplotlib.pyplot as plt\n",
    "from sklearn.cluster import KMeans\n",
    "matplotlib.style.use('ggplot')"
   ]
  },
  {
   "cell_type": "markdown",
   "metadata": {},
   "source": [
    "## 利用するデータについて\n",
    "\n",
    "こんな感じ。"
   ]
  },
  {
   "cell_type": "code",
   "execution_count": 2,
   "metadata": {},
   "outputs": [
    {
     "data": {
      "text/html": [
       "<div>\n",
       "<style>\n",
       "    .dataframe thead tr:only-child th {\n",
       "        text-align: right;\n",
       "    }\n",
       "\n",
       "    .dataframe thead th {\n",
       "        text-align: left;\n",
       "    }\n",
       "\n",
       "    .dataframe tbody tr th {\n",
       "        vertical-align: top;\n",
       "    }\n",
       "</style>\n",
       "<table border=\"1\" class=\"dataframe\">\n",
       "  <thead>\n",
       "    <tr style=\"text-align: right;\">\n",
       "      <th></th>\n",
       "      <th>food_name</th>\n",
       "      <th>store_type</th>\n",
       "      <th>calorie_k</th>\n",
       "      <th>price_yen</th>\n",
       "      <th>food_type</th>\n",
       "    </tr>\n",
       "  </thead>\n",
       "  <tbody>\n",
       "    <tr>\n",
       "      <th>0</th>\n",
       "      <td>スペシャルビッグフランク</td>\n",
       "      <td>コンビニ</td>\n",
       "      <td>332</td>\n",
       "      <td>154</td>\n",
       "      <td>スナック</td>\n",
       "    </tr>\n",
       "    <tr>\n",
       "      <th>1</th>\n",
       "      <td>ビッグアメリカンドッグ</td>\n",
       "      <td>コンビニ</td>\n",
       "      <td>319</td>\n",
       "      <td>108</td>\n",
       "      <td>スナック</td>\n",
       "    </tr>\n",
       "    <tr>\n",
       "      <th>2</th>\n",
       "      <td>からあげ棒（竜田揚げ）</td>\n",
       "      <td>コンビニ</td>\n",
       "      <td>205</td>\n",
       "      <td>123</td>\n",
       "      <td>スナック</td>\n",
       "    </tr>\n",
       "    <tr>\n",
       "      <th>3</th>\n",
       "      <td>ジューシー若鶏ザンギ</td>\n",
       "      <td>コンビニ</td>\n",
       "      <td>78</td>\n",
       "      <td>50</td>\n",
       "      <td>スナック</td>\n",
       "    </tr>\n",
       "  </tbody>\n",
       "</table>\n",
       "</div>"
      ],
      "text/plain": [
       "      food_name store_type  calorie_k  price_yen food_type\n",
       "0  スペシャルビッグフランク       コンビニ        332        154      スナック\n",
       "1   ビッグアメリカンドッグ       コンビニ        319        108      スナック\n",
       "2   からあげ棒（竜田揚げ）       コンビニ        205        123      スナック\n",
       "3    ジューシー若鶏ザンギ       コンビニ         78         50      スナック"
      ]
     },
     "execution_count": 2,
     "metadata": {},
     "output_type": "execute_result"
    }
   ],
   "source": [
    "foods_df = pd.read_csv('./food-data.csv')\n",
    "foods_df.head(10)"
   ]
  },
  {
   "cell_type": "code",
   "execution_count": 3,
   "metadata": {},
   "outputs": [
    {
     "data": {
      "text/plain": [
       "<matplotlib.figure.Figure at 0x220395b2cf8>"
      ]
     },
     "metadata": {},
     "output_type": "display_data"
    },
    {
     "data": {
      "image/png": "[encoded data removed]",
      "text/plain": [
       "<matplotlib.figure.Figure at 0x220395e2a58>"
      ]
     },
     "metadata": {},
     "output_type": "display_data"
    }
   ],
   "source": [
    "plt.clf()\n",
    "foods_df.plot(kind='scatter', x='calorie_k', y='price_yen', figsize=(10,6))\n",
    "plt.show()"
   ]
  },
  {
   "cell_type": "markdown",
   "metadata": {},
   "source": [
    "## クラスタリングなんぞしてみる\n",
    "\n",
    "３グループぐらいにわけてみよう。\n"
   ]
  },
  {
   "cell_type": "code",
   "execution_count": 4,
   "metadata": {},
   "outputs": [],
   "source": [
    "arr = np.array([\n",
    "    foods_df['calorie_k'].fillna(0).tolist(),\n",
    "    foods_df['price_yen'].fillna(0).tolist(),\n",
    "]).T\n",
    "km = KMeans(n_clusters=3)\n",
    "foods_df['cluster'] = km.fit_predict(arr)"
   ]
  },
  {
   "cell_type": "code",
   "execution_count": 5,
   "metadata": {},
   "outputs": [
    {
     "data": {
      "text/plain": [
       "<matplotlib.figure.Figure at 0x2203a9ae208>"
      ]
     },
     "metadata": {},
     "output_type": "display_data"
    },
    {
     "data": {
      "image/png": "[encoded data removed]",
      "text/plain": [
       "<matplotlib.figure.Figure at 0x2203a9bb080>"
      ]
     },
     "metadata": {},
     "output_type": "display_data"
    }
   ],
   "source": [
    "plt.clf()\n",
    "foods_df.plot(kind='scatter', x='calorie_k', y='price_yen', figsize=(10,6), c='cluster', cmap='magma')\n",
    "plt.show()"
   ]
  }
 ],
 "metadata": {
  "kernelspec": {
   "display_name": "Python 3",
   "language": "python",
   "name": "python3"
  },
  "language_info": {
   "codemirror_mode": {
    "name": "ipython",
    "version": 3
   },
   "file_extension": ".py",
   "mimetype": "text/x-python",
   "name": "python",
   "nbconvert_exporter": "python",
   "pygments_lexer": "ipython3",
   "version": "3.6.1"
  }
 },
 "nbformat": 4,
 "nbformat_minor": 2
}
